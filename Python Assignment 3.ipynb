{
 "cells": [
  {
   "cell_type": "markdown",
   "metadata": {},
   "source": [
    "# Problem #1.1"
   ]
  },
  {
   "cell_type": "code",
   "execution_count": 45,
   "metadata": {},
   "outputs": [
    {
     "name": "stdout",
     "output_type": "stream",
     "text": [
      "Please insert any number :10\n",
      "List of numbers are: [1, 2, 3, 4, 5, 6, 7, 8, 9, 10]\n",
      "Sum of numbers is : 55\n"
     ]
    }
   ],
   "source": [
    "def myreducefunc(num):\n",
    "    num_list = list(range(1,num+1))\n",
    "    sum = 0\n",
    "    \n",
    "    for i in num_list:\n",
    "        sum += i\n",
    "\n",
    "    return num_list, sum\n",
    "\n",
    "num = int(input(\"Please insert any number :\"))\n",
    "\n",
    "output = myreducefunc(num)\n",
    "\n",
    "print(\"List of numbers are:\", output[0])\n",
    "print(\"Sum of numbers is :\", output[1])"
   ]
  },
  {
   "cell_type": "markdown",
   "metadata": {},
   "source": [
    "# Problem #1.2"
   ]
  },
  {
   "cell_type": "code",
   "execution_count": 46,
   "metadata": {},
   "outputs": [
    {
     "name": "stdout",
     "output_type": "stream",
     "text": [
      "Insert any number: 20\n",
      "List of Even num:  [0, 2, 4, 6, 8, 10, 12, 14, 16, 18]\n",
      "List of Odd num:  [1, 3, 5, 7, 9, 11, 13, 15, 17, 19]\n"
     ]
    }
   ],
   "source": [
    "def myfilterfunc(num):\n",
    "    even_num = []\n",
    "    odd_num =[]\n",
    "    for i in range(num):\n",
    "        if i %2 == 0:\n",
    "            even_num.append(i)\n",
    "        else:\n",
    "            odd_num.append(i)\n",
    "    return even_num, odd_num\n",
    "\n",
    "num = int(input(\"Insert any number: \"))\n",
    "\n",
    "output = myfilterfunc(num)\n",
    "\n",
    "print(\"List of Even num: \", output[0])\n",
    "print(\"List of Odd num: \", output[1])\n"
   ]
  },
  {
   "cell_type": "markdown",
   "metadata": {},
   "source": [
    "# Problem #2"
   ]
  },
  {
   "cell_type": "code",
   "execution_count": 47,
   "metadata": {},
   "outputs": [
    {
     "name": "stdout",
     "output_type": "stream",
     "text": [
      "['x', 'xx', 'xxx', 'xxxx', 'y', 'yy', 'yyy', 'yyyy', 'z', 'zz', 'zzz', 'zzzz']\n"
     ]
    }
   ],
   "source": [
    "# Line 1\n",
    "string = \"xyz\"\n",
    "\n",
    "output = []\n",
    "for s in string:\n",
    "    for i in range(1,5):\n",
    "        output.append(s*i)\n",
    "\n",
    "print(output)\n"
   ]
  },
  {
   "cell_type": "code",
   "execution_count": 48,
   "metadata": {},
   "outputs": [
    {
     "name": "stdout",
     "output_type": "stream",
     "text": [
      "['x', 'y', 'z', 'xx', 'yy', 'zz', 'xxx', 'yyy', 'zzz', 'xxxx', 'yyyy', 'zzzz']\n"
     ]
    }
   ],
   "source": [
    "# Line 2\n",
    "string = \"xyz\"\n",
    "\n",
    "output = []\n",
    "for i in range(1,5):\n",
    "    for s in string:\n",
    "        output.append(s*i)\n",
    "\n",
    "print(output)\n"
   ]
  },
  {
   "cell_type": "code",
   "execution_count": 49,
   "metadata": {},
   "outputs": [
    {
     "name": "stdout",
     "output_type": "stream",
     "text": [
      "[[2], [3], [4], [3], [4], [5], [4], [5], [6]] [[2, 3, 4, 5], [3, 4, 5, 6], [4, 5, 6, 7], [5, 6, 7, 8]]\n"
     ]
    }
   ],
   "source": [
    "#Line 3\n",
    "number = [2,3,4]\n",
    "output = []\n",
    "for i in number:\n",
    "    for j in range(0, 3):\n",
    "        output.append([i + j])\n",
    "\n",
    "number_1 = [2,3,4,5]\n",
    "output_1 = []\n",
    "for i in range(0,4):\n",
    "    l = []\n",
    "    for j in number_1:\n",
    "        l.append(i + j)\n",
    "    output_1.append(l)\n",
    "\n",
    "print(output, output_1)"
   ]
  },
  {
   "cell_type": "code",
   "execution_count": 50,
   "metadata": {},
   "outputs": [
    {
     "name": "stdout",
     "output_type": "stream",
     "text": [
      "[(1, 1), (2, 1), (3, 1), (1, 2), (2, 2), (3, 2), (1, 3), (2, 3), (3, 3)]\n"
     ]
    }
   ],
   "source": [
    "# Line 4\n",
    "number = [1,2,3]\n",
    "number_5= [(b,a) for a in number_4 for b in number_4]\n",
    "output = []\n",
    "for i in number:\n",
    "    for j in range(1, 4):\n",
    "        output.append((j, i))\n",
    "\n",
    "print(output)"
   ]
  },
  {
   "cell_type": "code",
   "execution_count": null,
   "metadata": {},
   "outputs": [],
   "source": []
  }
 ],
 "metadata": {
  "kernelspec": {
   "display_name": "Python 3",
   "language": "python",
   "name": "python3"
  },
  "language_info": {
   "codemirror_mode": {
    "name": "ipython",
    "version": 3
   },
   "file_extension": ".py",
   "mimetype": "text/x-python",
   "name": "python",
   "nbconvert_exporter": "python",
   "pygments_lexer": "ipython3",
   "version": "3.7.6"
  }
 },
 "nbformat": 4,
 "nbformat_minor": 4
}
