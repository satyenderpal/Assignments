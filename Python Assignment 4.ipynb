{
 "cells": [
  {
   "cell_type": "markdown",
   "metadata": {},
   "source": [
    "\n",
    "# Problem #1.1"
   ]
  },
  {
   "cell_type": "code",
   "execution_count": 29,
   "metadata": {},
   "outputs": [
    {
     "name": "stdout",
     "output_type": "stream",
     "text": [
      "Enter First side: 5\n",
      "Enter Second side: 8\n",
      "Enter Third side: 7\n",
      "Area is:  17.320508075688775\n"
     ]
    }
   ],
   "source": [
    "class parent:\n",
    "    def __init__(self, a,b,c):\n",
    "        self.a = a\n",
    "        self.b = b\n",
    "        self.c = c\n",
    "\n",
    "class child(parent):\n",
    "    def cal_area(self):\n",
    "        s = (a + b +c) / 2\n",
    "        return (s*(s-a)*(s-b)*(s-c)) ** 0.5\n",
    "\n",
    "a = float(input(\"Enter First side: \"))\n",
    "b = float(input(\"Enter Second side: \"))\n",
    "c = float(input(\"Enter Third side: \"))\n",
    "\n",
    "\n",
    "obj = child(a,b,c)\n",
    "print(\"Area is: \", obj.cal_area())"
   ]
  },
  {
   "cell_type": "markdown",
   "metadata": {},
   "source": [
    "# Problem #1.2"
   ]
  },
  {
   "cell_type": "code",
   "execution_count": 6,
   "metadata": {},
   "outputs": [
    {
     "name": "stdout",
     "output_type": "stream",
     "text": [
      "['return', 'words', 'longer', 'than n']\n"
     ]
    }
   ],
   "source": [
    "result = []\n",
    "def filter_long_words(l, n):\n",
    "    for w in l:\n",
    "        if len(w) > n:\n",
    "            result.append(w)\n",
    "    return result\n",
    "\n",
    "\n",
    "l = [\"return\", \"the\", \"list\", \"of\", \"words\", \"that\", \"are\", \"longer\", \"than n\"]\n",
    "print(filter_long_words(l, 4))\n"
   ]
  },
  {
   "cell_type": "markdown",
   "metadata": {},
   "source": [
    "# Problem #2.1"
   ]
  },
  {
   "cell_type": "code",
   "execution_count": 15,
   "metadata": {},
   "outputs": [
    {
     "name": "stdout",
     "output_type": "stream",
     "text": [
      "['This', 'is', 'a', 'very', 'good', 'program']\n",
      "[4, 2, 1, 4, 4, 7]\n"
     ]
    }
   ],
   "source": [
    "def maps_list_of_words(words):\n",
    "    list_words = []\n",
    "    for word in words:\n",
    "        list_words.append(len(word))\n",
    "    return list_words\n",
    "\n",
    "li = ['This', 'is', 'a', 'very', 'good', 'program']\n",
    "print(li)\n",
    "print(maps_list_of_words(li))\n"
   ]
  },
  {
   "cell_type": "markdown",
   "metadata": {},
   "source": [
    "# Problem #2.2"
   ]
  },
  {
   "cell_type": "markdown",
   "metadata": {},
   "source": []
  },
  {
   "cell_type": "code",
   "execution_count": 19,
   "metadata": {},
   "outputs": [
    {
     "name": "stdout",
     "output_type": "stream",
     "text": [
      "Please enter a character: b\n",
      "Is it a Vowel?  True\n"
     ]
    }
   ],
   "source": [
    "def check_vowel(char):\n",
    "    if char == 'a' or 'e' or 'i' or 'o' or 'u':\n",
    "        return True\n",
    "    else: \n",
    "        return False\n",
    "input_char = input('Please enter a character: ')\n",
    "\n",
    "print(\"Is it a Vowel? \", check_vowel(input_char))\n"
   ]
  },
  {
   "cell_type": "code",
   "execution_count": null,
   "metadata": {},
   "outputs": [],
   "source": []
  },
  {
   "cell_type": "code",
   "execution_count": null,
   "metadata": {},
   "outputs": [],
   "source": []
  }
 ],
 "metadata": {
  "kernelspec": {
   "display_name": "Python 3",
   "language": "python",
   "name": "python3"
  },
  "language_info": {
   "codemirror_mode": {
    "name": "ipython",
    "version": 3
   },
   "file_extension": ".py",
   "mimetype": "text/x-python",
   "name": "python",
   "nbconvert_exporter": "python",
   "pygments_lexer": "ipython3",
   "version": "3.7.6"
  }
 },
 "nbformat": 4,
 "nbformat_minor": 4
}
